import torch
import matplotlib.pyplot as plt
import matplotx
plt.style.use(matplotx.styles.pacoty)


from quant_func import qbits, STERound


x = torch.linspace(-0.2,0.2,1000)
y = qbits(x)
plt.plot(x,y)


some_number = 0.08534123
qbits(some_number)


x = torch.linspace(-5,5,100)
y = torch.round(x)
plt.plot(x,y)



