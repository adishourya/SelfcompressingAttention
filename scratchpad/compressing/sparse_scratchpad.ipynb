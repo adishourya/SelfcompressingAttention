{
 "cells": [
  {
   "cell_type": "code",
   "execution_count": 1,
   "id": "80d127f0-95c4-48ca-9891-0096a5e32b50",
   "metadata": {},
   "outputs": [],
   "source": [
    "import torch\n",
    "import sympy as sp"
   ]
  },
  {
   "cell_type": "code",
   "execution_count": 4,
   "id": "86f3df72-55de-4fa1-b80a-82a1fcf783ba",
   "metadata": {},
   "outputs": [
    {
     "ename": "RuntimeError",
     "evalue": "number of dimensions must be sparse_dim (3) + dense_dim (0), but got 2",
     "output_type": "error",
     "traceback": [
      "\u001b[0;31m---------------------------------------------------------------------------\u001b[0m",
      "\u001b[0;31mRuntimeError\u001b[0m                              Traceback (most recent call last)",
      "Cell \u001b[0;32mIn[4], line 8\u001b[0m\n\u001b[1;32m      5\u001b[0m values \u001b[38;5;241m=\u001b[39m torch\u001b[38;5;241m.\u001b[39mtensor([\u001b[38;5;241m3\u001b[39m, \u001b[38;5;241m4\u001b[39m, \u001b[38;5;241m5\u001b[39m])\n\u001b[1;32m      6\u001b[0m size \u001b[38;5;241m=\u001b[39m (\u001b[38;5;241m3\u001b[39m, \u001b[38;5;241m3\u001b[39m)\n\u001b[0;32m----> 8\u001b[0m sparse \u001b[38;5;241m=\u001b[39m torch\u001b[38;5;241m.\u001b[39msparse_coo_tensor(indices, values, size)\n",
      "\u001b[0;31mRuntimeError\u001b[0m: number of dimensions must be sparse_dim (3) + dense_dim (0), but got 2"
     ]
    }
   ],
   "source": [
    "indices = torch.tensor([[0, 1, 2],  # row indices\n",
    "                        [2, 0, 2]]) # column indice\n",
    "values = torch.tensor([3, 4, 5])\n",
    "size = (3, 3)\n",
    "\n",
    "sparse = torch.sparse_coo_tensor(indices, values, size)\n"
   ]
  },
  {
   "cell_type": "code",
   "execution_count": 3,
   "id": "eab85523-32f7-41c3-b344-01a0ac87e555",
   "metadata": {},
   "outputs": [
    {
     "data": {
      "text/plain": [
       "tensor(indices=tensor([[0, 1, 2],\n",
       "                       [2, 0, 2]]),\n",
       "       values=tensor([3, 4, 5]),\n",
       "       size=(3, 3), nnz=3, layout=torch.sparse_coo)"
      ]
     },
     "execution_count": 3,
     "metadata": {},
     "output_type": "execute_result"
    }
   ],
   "source": [
    "sparse"
   ]
  },
  {
   "cell_type": "code",
   "execution_count": null,
   "id": "b267baf2-f598-4ceb-9a47-aa340b576552",
   "metadata": {},
   "outputs": [],
   "source": []
  }
 ],
 "metadata": {
  "kernelspec": {
   "display_name": "Python 3 (ipykernel)",
   "language": "python",
   "name": "python3"
  },
  "language_info": {
   "codemirror_mode": {
    "name": "ipython",
    "version": 3
   },
   "file_extension": ".py",
   "mimetype": "text/x-python",
   "name": "python",
   "nbconvert_exporter": "python",
   "pygments_lexer": "ipython3",
   "version": "3.12.7"
  }
 },
 "nbformat": 4,
 "nbformat_minor": 5
}
