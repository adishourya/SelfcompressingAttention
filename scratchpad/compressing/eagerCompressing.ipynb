{
 "cells": [
  {
   "cell_type": "code",
   "execution_count": 1,
   "id": "22e6e1af-3f4d-43ed-9d72-a2cca6ec5e32",
   "metadata": {},
   "outputs": [],
   "source": [
    "import torch\n",
    "import sympy as sp\n",
    "from IPython.display import display\n",
    "import matplotlib.pyplot as plt\n",
    "import matplotx\n",
    "plt.style.use(matplotx.styles.pacoty)"
   ]
  },
  {
   "cell_type": "code",
   "execution_count": 2,
   "id": "854c6cfc-38ff-4b9d-ad36-c3a75dae0fc5",
   "metadata": {},
   "outputs": [],
   "source": [
    "from quant_func import STERound\n",
    "torch.steRound = STERound.apply"
   ]
  },
  {
   "cell_type": "code",
   "execution_count": 3,
   "id": "d3c7df98-1998-490c-ad31-e69726113db8",
   "metadata": {},
   "outputs": [
    {
     "name": "stdout",
     "output_type": "stream",
     "text": [
      "True Pop Params\n"
     ]
    },
    {
     "data": {
      "text/latex": [
       "$\\displaystyle W = \\left[\\begin{matrix}-0.15 & 0 & 0 & 0\\\\0 & 0.15 & 0 & 0\\\\0.05 & 0 & 0 & 0\\\\0 & -0.1 & 0 & 0\\\\0 & 0 & 0 & 0.22\\\\0 & 0 & 0 & 0\\\\0 & 0 & 0 & 0.21\\\\0 & 0 & 0.05 & 0\\\\0 & 0 & 0 & 0\\\\0.01 & 0 & 0 & 0\\\\0 & 0 & 0 & 0\\\\0 & 0 & 0.18 & 0\\end{matrix}\\right]$"
      ],
      "text/plain": [
       "Eq(W, Matrix([\n",
       "[-0.15,    0,    0,    0],\n",
       "[    0, 0.15,    0,    0],\n",
       "[ 0.05,    0,    0,    0],\n",
       "[    0, -0.1,    0,    0],\n",
       "[    0,    0,    0, 0.22],\n",
       "[    0,    0,    0,    0],\n",
       "[    0,    0,    0, 0.21],\n",
       "[    0,    0, 0.05,    0],\n",
       "[    0,    0,    0,    0],\n",
       "[ 0.01,    0,    0,    0],\n",
       "[    0,    0,    0,    0],\n",
       "[    0,    0, 0.18,    0]]))"
      ]
     },
     "metadata": {},
     "output_type": "display_data"
    },
    {
     "data": {
      "text/latex": [
       "$\\displaystyle b = \\left[\\begin{matrix}0.02 & -0.01 & 0.03 & -0.005\\end{matrix}\\right]$"
      ],
      "text/plain": [
       "Eq(b, Matrix([[0.02, -0.01, 0.03, -0.005]]))"
      ]
     },
     "metadata": {},
     "output_type": "display_data"
    },
    {
     "data": {
      "text/latex": [
       "$\\displaystyle y = \\operatorname{argmax}{\\left(\\left[\\begin{matrix}- 0.15 x_{0} + 0.05 x_{2} + 0.01 x_{9} + 0.02 & 0.15 x_{1} - 0.1 x_{3} - 0.01 & 0.18 x_{11} + 0.05 x_{7} + 0.03 & 0.22 x_{4} + 0.21 x_{6} - 0.005\\end{matrix}\\right] \\right)}$"
      ],
      "text/plain": [
       "Eq(y, argmax(Matrix([[-0.15*x0 + 0.05*x2 + 0.01*x9 + 0.02, 0.15*x1 - 0.1*x3 - 0.01, 0.18*x11 + 0.05*x7 + 0.03, 0.22*x4 + 0.21*x6 - 0.005]])))"
      ]
     },
     "metadata": {},
     "output_type": "display_data"
    }
   ],
   "source": [
    "# 12 feature input . 4 class labelling\n",
    "class Dataset():\n",
    "    def __init__(self, num_examples=100):\n",
    "        \"\"\"\n",
    "        4-class Classification dataset\n",
    "        W : R12 -> R4\n",
    "        y = argmax(X@W + b)\n",
    "        \"\"\"\n",
    "\n",
    "        torch.manual_seed(10)\n",
    "        \n",
    "        # Mostly sparse W with small scale and precision to represent them\n",
    "        # this could be inferenced with fp4 if our model achieves this.\n",
    "        self._W = torch.tensor([\n",
    "            [-0.15, 0.0,   0.0,   0.0],\n",
    "            [ 0.0, 0.15,  0.0,   0.0],\n",
    "            [ 0.05, 0.0,  0.0,   0.0],\n",
    "            [ 0.0, -0.1,  0.0,   0.0],\n",
    "            [ 0.0, 0.0,   0.0,   0.22],\n",
    "            [ 0.0, 0.0,   0.0,   0.0],\n",
    "            [ 0.0, 0.0,   0.0,  0.21],\n",
    "            [ 0.0, 0.0,   0.05,  0.0],\n",
    "            [ 0.0, 0.0,   0.0,   0.0],\n",
    "            [ 0.01, 0.0,  0.0,   0.0],\n",
    "            [ 0.0, 0.0,   0.0,   0.0],\n",
    "            [ 0.0, 0.0,   0.18,  0.0]\n",
    "        ], dtype=torch.float32)\n",
    "\n",
    "        self._bias = 0.1 * torch.tensor([0.2, -0.1, 0.3, -0.05], dtype=torch.float32)\n",
    "\n",
    "        self.x = torch.randn(num_examples, 12, dtype=torch.float32)\n",
    "        self.y = self.x @ self._W + self._bias\n",
    "        self.y = torch.argmax(self.y, dim=-1)\n",
    "\n",
    "    def show_answer(self, show=4):\n",
    "        from IPython.display import display\n",
    "\n",
    "        sp_W = sp.Matrix(self._W)\n",
    "        sp_x = [sp.Symbol(f\"x{i}\") for i in range(self._W.shape[0])]\n",
    "        sp_y = sp.Symbol(\"y\")\n",
    "        sp_func = sp.Function(\"argmax\")\n",
    "        sp_b = sp.Matrix(self._bias)\n",
    "\n",
    "        sp_x = sp.Matrix(sp_x).T\n",
    "        sp_b = sp.Matrix(sp_b).T\n",
    "\n",
    "        sp_eq = sp.Eq(sp_y, sp_func(sp_x @ sp_W + sp_b), evaluate=False)\n",
    "\n",
    "        print(\"True Pop Params\")\n",
    "        display(sp.Eq(sp.Symbol(\"W\"), sp_W, evaluate=False))\n",
    "        display(sp.Eq(sp.Symbol(\"b\"), sp_b, evaluate=False))\n",
    "        display(sp_eq)\n",
    "\n",
    "# Example usage\n",
    "data = Dataset()\n",
    "data.show_answer()\n"
   ]
  },
  {
   "cell_type": "code",
   "execution_count": 4,
   "id": "ab59a9cd-6b78-4188-bb88-6339c320bea3",
   "metadata": {},
   "outputs": [
    {
     "data": {
      "text/plain": [
       "(array([32.,  0.,  0., 17.,  0.,  0., 22.,  0.,  0., 29.]),\n",
       " array([0. , 0.3, 0.6, 0.9, 1.2, 1.5, 1.8, 2.1, 2.4, 2.7, 3. ]),\n",
       " <BarContainer object of 10 artists>)"
      ]
     },
     "execution_count": 4,
     "metadata": {},
     "output_type": "execute_result"
    },
    {
     "data": {
      "image/png": "[encoded data removed]",
      "text/plain": [
       "<Figure size 640x480 with 1 Axes>"
      ]
     },
     "metadata": {},
     "output_type": "display_data"
    }
   ],
   "source": [
    "plt.hist(data.y)"
   ]
  },
  {
   "cell_type": "code",
   "execution_count": 5,
   "id": "11a19fa6-c4a5-44b2-bdf3-03896fb6c65d",
   "metadata": {},
   "outputs": [
    {
     "data": {
      "text/plain": [
       "[<matplotlib.lines.Line2D at 0x7d2569d3ffe0>]"
      ]
     },
     "execution_count": 5,
     "metadata": {},
     "output_type": "execute_result"
    },
    {
     "data": {
      "image/png": "[encoded data removed]",
      "text/plain": [
       "<Figure size 640x480 with 1 Axes>"
      ]
     },
     "metadata": {},
     "output_type": "display_data"
    }
   ],
   "source": [
    "#simple NN 1 layer same shape\n",
    "# register gelu\n",
    "\n",
    "torch.gelu = torch.nn.GELU()\n",
    "x = torch.linspace(-10,10,100)\n",
    "y = torch.gelu(x)\n",
    "\n",
    "plt.plot(x,y)"
   ]
  },
  {
   "cell_type": "code",
   "execution_count": 6,
   "id": "e1c05b76-b971-4789-b8cd-4d82b7f0aee0",
   "metadata": {},
   "outputs": [],
   "source": [
    "class SuperSimpleNN(torch.nn.Module):    \n",
    "    def __init__(self):\n",
    "        \"\"\"\n",
    "        we will diverge from the paper for now...\n",
    "        we will assign an exponent and a bit depth for each of the weight and bias matrices\n",
    "        usually they would be associated with 1 pair and if b reaches 0 we take out..\n",
    "        that matrix from the graph.. (also optimizer states)\n",
    "        \"\"\"\n",
    "        super().__init__()\n",
    "        self.W_exp = torch.ones(12,4,dtype=torch.float32)* -8\n",
    "        self.b_exp = torch.ones(1,4,dtype=torch.float32)* -8 \n",
    "\n",
    "        # we will start with 4 bit depth for now\n",
    "        self.W_depth = torch.ones_like(self.W_exp) * 4\n",
    "        self.b_depth = torch.ones_like(self.b_exp) * 4\n",
    "        \n",
    "        self.W = torch.randn(12,4,dtype=torch.float32)\n",
    "        self.b = torch.randn(1,4,dtype=torch.float32)\n",
    "        \n",
    "        self.W = self._quantize(self.W,self.W_exp,self.W_depth)\n",
    "        self.b = self._quantize(self.b,self.b_exp,self.b_depth)\n",
    "\n",
    "        # trainables\n",
    "        self.W = torch.nn.Parameter(self.W)\n",
    "        self.b = torch.nn.Parameter(self.b)\n",
    "        self.W_exp = torch.nn.Parameter(self.W_exp)\n",
    "        self.b_exp = torch.nn.Parameter(self.b_exp)\n",
    "        self.W_depth = torch.nn.Parameter(self.W_depth)\n",
    "        self.b_depth = torch.nn.Parameter(self.b_depth)\n",
    "\n",
    "\n",
    "    @staticmethod\n",
    "    def _quantize(x,e,b):\n",
    "        b = torch.relu(b)\n",
    "        upscale = x/torch.exp2(e)\n",
    "        half = torch.exp2(b-1)\n",
    "        clipped = torch.clip(upscale,-1*half,half-1)\n",
    "        rounded = torch.steRound(clipped)\n",
    "        return torch.exp2(e) * rounded\n",
    "\n",
    "    def forward(self,x):\n",
    "        # quantize every forward pass.. make depth >=0\n",
    "        W_depth = torch.relu(self.W_depth)\n",
    "        b_depth = torch.relu(self.b_depth)\n",
    "        \n",
    "        W_q = self._quantize(self.W,self.W_exp,W_depth)\n",
    "        b_q = self._quantize(self.b,self.b_exp,b_depth)\n",
    "    \n",
    "        out = torch.gelu(x@W_q + b_q)\n",
    "        return out\n",
    "\n",
    "simple_model = SuperSimpleNN()"
   ]
  },
  {
   "cell_type": "code",
   "execution_count": 7,
   "id": "05cd42ce-b576-47c8-8d46-5f755e14d83a",
   "metadata": {},
   "outputs": [
    {
     "name": "stdout",
     "output_type": "stream",
     "text": [
      "At init\n"
     ]
    },
    {
     "data": {
      "text/latex": [
       "$\\displaystyle W_{init} = \\left[\\begin{matrix}-0.00390625 & 0.0273438 & -0.03125 & -0.03125\\\\-0.03125 & 0.0273438 & -0.03125 & -0.03125\\\\0.0273438 & 0.0273438 & -0.03125 & -0.03125\\\\0.0273438 & -0.03125 & 0.0273438 & -0.03125\\\\0.0273438 & -0.03125 & 0.0273438 & -0.03125\\\\-0.03125 & -0.03125 & 0.0273438 & 0.0273438\\\\-0.03125 & -0.03125 & 0.0273438 & 0.0273438\\\\-0.03125 & -0.03125 & -0.03125 & 0.0273438\\\\-0.03125 & -0.03125 & 0.0273438 & 0.0273438\\\\0.0273438 & 0.0273438 & -0.03125 & 0.0273438\\\\0.0273438 & -0.03125 & -0.03125 & 0.0273438\\\\-0.03125 & 0.0273438 & -0.03125 & -0.03125\\end{matrix}\\right]$"
      ],
      "text/plain": [
       "Eq(W_init, Matrix([\n",
       "[-0.00390625, 0.0273438,  -0.03125,  -0.03125],\n",
       "[   -0.03125, 0.0273438,  -0.03125,  -0.03125],\n",
       "[  0.0273438, 0.0273438,  -0.03125,  -0.03125],\n",
       "[  0.0273438,  -0.03125, 0.0273438,  -0.03125],\n",
       "[  0.0273438,  -0.03125, 0.0273438,  -0.03125],\n",
       "[   -0.03125,  -0.03125, 0.0273438, 0.0273438],\n",
       "[   -0.03125,  -0.03125, 0.0273438, 0.0273438],\n",
       "[   -0.03125,  -0.03125,  -0.03125, 0.0273438],\n",
       "[   -0.03125,  -0.03125, 0.0273438, 0.0273438],\n",
       "[  0.0273438, 0.0273438,  -0.03125, 0.0273438],\n",
       "[  0.0273438,  -0.03125,  -0.03125, 0.0273438],\n",
       "[   -0.03125, 0.0273438,  -0.03125,  -0.03125]]))"
      ]
     },
     "metadata": {},
     "output_type": "display_data"
    },
    {
     "data": {
      "text/latex": [
       "$\\displaystyle b_{init} = \\left[\\begin{matrix}-0.03125 & 0.0273438 & -0.03125 & 0.0273438\\end{matrix}\\right]$"
      ],
      "text/plain": [
       "Eq(b_init, Matrix([[-0.03125, 0.0273438, -0.03125, 0.0273438]]))"
      ]
     },
     "metadata": {},
     "output_type": "display_data"
    },
    {
     "data": {
      "text/latex": [
       "$\\displaystyle W_{exp init} = \\left[\\begin{matrix}-8.0 & -8.0 & -8.0 & -8.0\\\\-8.0 & -8.0 & -8.0 & -8.0\\\\-8.0 & -8.0 & -8.0 & -8.0\\\\-8.0 & -8.0 & -8.0 & -8.0\\\\-8.0 & -8.0 & -8.0 & -8.0\\\\-8.0 & -8.0 & -8.0 & -8.0\\\\-8.0 & -8.0 & -8.0 & -8.0\\\\-8.0 & -8.0 & -8.0 & -8.0\\\\-8.0 & -8.0 & -8.0 & -8.0\\\\-8.0 & -8.0 & -8.0 & -8.0\\\\-8.0 & -8.0 & -8.0 & -8.0\\\\-8.0 & -8.0 & -8.0 & -8.0\\end{matrix}\\right]$"
      ],
      "text/plain": [
       "Eq(W_exp_init, Matrix([\n",
       "[-8.0, -8.0, -8.0, -8.0],\n",
       "[-8.0, -8.0, -8.0, -8.0],\n",
       "[-8.0, -8.0, -8.0, -8.0],\n",
       "[-8.0, -8.0, -8.0, -8.0],\n",
       "[-8.0, -8.0, -8.0, -8.0],\n",
       "[-8.0, -8.0, -8.0, -8.0],\n",
       "[-8.0, -8.0, -8.0, -8.0],\n",
       "[-8.0, -8.0, -8.0, -8.0],\n",
       "[-8.0, -8.0, -8.0, -8.0],\n",
       "[-8.0, -8.0, -8.0, -8.0],\n",
       "[-8.0, -8.0, -8.0, -8.0],\n",
       "[-8.0, -8.0, -8.0, -8.0]]))"
      ]
     },
     "metadata": {},
     "output_type": "display_data"
    },
    {
     "data": {
      "text/latex": [
       "$\\displaystyle b_{exp init} = \\left[\\begin{matrix}-8.0 & -8.0 & -8.0 & -8.0\\end{matrix}\\right]$"
      ],
      "text/plain": [
       "Eq(b_exp_init, Matrix([[-8.0, -8.0, -8.0, -8.0]]))"
      ]
     },
     "metadata": {},
     "output_type": "display_data"
    },
    {
     "data": {
      "text/latex": [
       "$\\displaystyle W_{depth init} = \\left[\\begin{matrix}4.0 & 4.0 & 4.0 & 4.0\\\\4.0 & 4.0 & 4.0 & 4.0\\\\4.0 & 4.0 & 4.0 & 4.0\\\\4.0 & 4.0 & 4.0 & 4.0\\\\4.0 & 4.0 & 4.0 & 4.0\\\\4.0 & 4.0 & 4.0 & 4.0\\\\4.0 & 4.0 & 4.0 & 4.0\\\\4.0 & 4.0 & 4.0 & 4.0\\\\4.0 & 4.0 & 4.0 & 4.0\\\\4.0 & 4.0 & 4.0 & 4.0\\\\4.0 & 4.0 & 4.0 & 4.0\\\\4.0 & 4.0 & 4.0 & 4.0\\end{matrix}\\right]$"
      ],
      "text/plain": [
       "Eq(W_depth_init, Matrix([\n",
       "[4.0, 4.0, 4.0, 4.0],\n",
       "[4.0, 4.0, 4.0, 4.0],\n",
       "[4.0, 4.0, 4.0, 4.0],\n",
       "[4.0, 4.0, 4.0, 4.0],\n",
       "[4.0, 4.0, 4.0, 4.0],\n",
       "[4.0, 4.0, 4.0, 4.0],\n",
       "[4.0, 4.0, 4.0, 4.0],\n",
       "[4.0, 4.0, 4.0, 4.0],\n",
       "[4.0, 4.0, 4.0, 4.0],\n",
       "[4.0, 4.0, 4.0, 4.0],\n",
       "[4.0, 4.0, 4.0, 4.0],\n",
       "[4.0, 4.0, 4.0, 4.0]]))"
      ]
     },
     "metadata": {},
     "output_type": "display_data"
    },
    {
     "data": {
      "text/latex": [
       "$\\displaystyle b_{depth init} = \\left[\\begin{matrix}4.0 & 4.0 & 4.0 & 4.0\\end{matrix}\\right]$"
      ],
      "text/plain": [
       "Eq(b_depth_init, Matrix([[4.0, 4.0, 4.0, 4.0]]))"
      ]
     },
     "metadata": {},
     "output_type": "display_data"
    }
   ],
   "source": [
    "print(\"At init\")\n",
    "with torch.no_grad():\n",
    "    for p in simple_model.named_parameters():\n",
    "        # print(p)\n",
    "        display(sp.Eq(sp.Symbol(f\"{p[0]}_init\"), sp.Matrix(p[1]),evaluate=False))"
   ]
  },
  {
   "cell_type": "code",
   "execution_count": 8,
   "id": "934072a8-d204-47a6-857a-3e88c3eab901",
   "metadata": {},
   "outputs": [
    {
     "name": "stderr",
     "output_type": "stream",
     "text": [
      "  0%|                                    | 0/100000 [00:01<?, ?it/s, loss=4.6]W0413 15:51:00.970000 121731 site-packages/torch/_logging/_internal.py:1081] [8/0] Profiler function <class 'torch.autograd.profiler.record_function'> will be ignored\n",
      "100%|███████████████████| 100000/100000 [01:18<00:00, 1277.77it/s, loss=0.539]\n"
     ]
    }
   ],
   "source": [
    "x_examples = data.x.to(\"cuda\")\n",
    "y_examples = data.y.to(\"cuda\")\n",
    "torch.set_float32_matmul_precision(\"high\")\n",
    "\n",
    "@torch.compile\n",
    "def train(epochs:int = 100_000):\n",
    "    model = SuperSimpleNN()\n",
    "    model.to(\"cuda\")\n",
    "\n",
    "    from tqdm import tqdm\n",
    "    pbar = tqdm(range(epochs))\n",
    "    optim = torch.optim.AdamW(model.parameters(),weight_decay=1e-3)\n",
    "\n",
    "    for epoch in pbar:\n",
    "        out = model(x_examples)\n",
    "        bit_decay = torch.norm(torch.cat([\n",
    "            p.flatten() for name, p in model.named_parameters()\n",
    "            if \"depth\" in name or \"exp\" in name\n",
    "            ]))\n",
    "\n",
    "        loss = torch.nn.functional.cross_entropy(input = out, target = y_examples) + (1/20)* (bit_decay)\n",
    "    \n",
    "        if epoch % 10_000 == 0:\n",
    "            pbar.set_postfix(loss=loss.item())\n",
    "    \n",
    "        optim.zero_grad()\n",
    "        loss.backward()\n",
    "        optim.step()\n",
    "    return model\n",
    "\n",
    "\n",
    "model = train()"
   ]
  },
  {
   "cell_type": "code",
   "execution_count": 9,
   "id": "dbea2e04-80b6-4ba1-9bf6-6c6f4f2d88f7",
   "metadata": {},
   "outputs": [
    {
     "name": "stdout",
     "output_type": "stream",
     "text": [
      "Score: tensor(97, device='cuda:0')\n"
     ]
    },
    {
     "data": {
      "text/latex": [
       "$\\displaystyle W_{result} = \\left[\\begin{matrix}-4.7128 & 1.02147 & 0 & 0\\\\-1.61938 & 3.28405 & 0 & 0\\\\3.73113 & 0 & 0 & 0\\\\0 & -2.07219 & 0 & 0\\\\-1.7296 & -1.5404 & 0 & 7.94661\\\\0 & 0 & 0 & -1.40395\\\\0 & 0 & 0 & 8.21149\\\\0 & 0 & 3.47238 & 0\\\\1.01997 & 0 & 0 & 0\\\\0 & 0 & 0.955973 & 0\\\\0 & 0 & 0 & 0\\\\-2.75589 & 0 & 7.22146 & 0\\end{matrix}\\right]$"
      ],
      "text/plain": [
       "Eq(W_result, Matrix([\n",
       "[ -4.7128,  1.02147,        0,        0],\n",
       "[-1.61938,  3.28405,        0,        0],\n",
       "[ 3.73113,        0,        0,        0],\n",
       "[       0, -2.07219,        0,        0],\n",
       "[ -1.7296,  -1.5404,        0,  7.94661],\n",
       "[       0,        0,        0, -1.40395],\n",
       "[       0,        0,        0,  8.21149],\n",
       "[       0,        0,  3.47238,        0],\n",
       "[ 1.01997,        0,        0,        0],\n",
       "[       0,        0, 0.955973,        0],\n",
       "[       0,        0,        0,        0],\n",
       "[-2.75589,        0,  7.22146,        0]]))"
      ]
     },
     "metadata": {},
     "output_type": "display_data"
    },
    {
     "data": {
      "text/latex": [
       "$\\displaystyle B_{result} = \\left[\\begin{matrix}0 & 0 & 0 & 0\\end{matrix}\\right]$"
      ],
      "text/plain": [
       "Eq(B_result, Matrix([[0, 0, 0, 0]]))"
      ]
     },
     "metadata": {},
     "output_type": "display_data"
    },
    {
     "name": "stdout",
     "output_type": "stream",
     "text": [
      "==========================\n"
     ]
    },
    {
     "data": {
      "text/latex": [
       "$\\displaystyle W_{depth result} = \\left[\\begin{matrix}1.58517 & 1.58538 & 0.0989309 & 0.118591\\\\0.487198 & 2.80734 & -4.60774 \\cdot 10^{-16} & -1.55151 \\cdot 10^{-7}\\\\2.32198 & -7.4227 \\cdot 10^{-7} & -9.09286 \\cdot 10^{-10} & 9.20653 \\cdot 10^{-43}\\\\-4.82098 \\cdot 10^{-9} & 1.22048 & 0.0384498 & -0.000120394\\\\0.597799 & 0.415882 & 0.437117 & 2.80863\\\\-0.00707417 & -0.00469884 & 0.0689907 & 0.302221\\\\-2.50743 \\cdot 10^{-12} & -0.0120855 & -7.20251 \\cdot 10^{-19} & 2.80785\\\\0.8946 & -0.0167259 & 2.32222 & -0.000260237\\\\1.58536 & 0.257059 & -3.62663 \\cdot 10^{-14} & 9.20653 \\cdot 10^{-43}\\\\1.58411 & 9.1785 \\cdot 10^{-43} & 1.58537 & -0.000278985\\\\0.362619 & 9.05239 \\cdot 10^{-43} & 8.7441 \\cdot 10^{-43} & -8.80986 \\cdot 10^{-12}\\\\1.58534 & -3.09325 \\cdot 10^{-7} & 2.80748 & -0.00129921\\end{matrix}\\right]$"
      ],
      "text/plain": [
       "Eq(W_depth_result, Matrix([\n",
       "[     1.58517,     1.58538,    0.0989309,     0.118591],\n",
       "[    0.487198,     2.80734, -4.60774e-16,  -1.55151e-7],\n",
       "[     2.32198,  -7.4227e-7, -9.09286e-10,  9.20653e-43],\n",
       "[ -4.82098e-9,     1.22048,    0.0384498, -0.000120394],\n",
       "[    0.597799,    0.415882,     0.437117,      2.80863],\n",
       "[ -0.00707417, -0.00469884,    0.0689907,     0.302221],\n",
       "[-2.50743e-12,  -0.0120855, -7.20251e-19,      2.80785],\n",
       "[      0.8946,  -0.0167259,      2.32222, -0.000260237],\n",
       "[     1.58536,    0.257059, -3.62663e-14,  9.20653e-43],\n",
       "[     1.58411,  9.1785e-43,      1.58537, -0.000278985],\n",
       "[    0.362619, 9.05239e-43,   8.7441e-43, -8.80986e-12],\n",
       "[     1.58534, -3.09325e-7,      2.80748,  -0.00129921]]))"
      ]
     },
     "metadata": {},
     "output_type": "display_data"
    },
    {
     "data": {
      "text/latex": [
       "$\\displaystyle W_{exp result} = \\left[\\begin{matrix}1.23658 & 0.0306508 & 9.19252 \\cdot 10^{-43} & 9.1785 \\cdot 10^{-43}\\\\0.695438 & 0.715477 & 9.19252 \\cdot 10^{-43} & 9.1785 \\cdot 10^{-43}\\\\0.899612 & 9.09443 \\cdot 10^{-43} & 9.15048 \\cdot 10^{-43} & 9.09443 \\cdot 10^{-43}\\\\9.10844 \\cdot 10^{-43} & 1.05116 & -8.66002 \\cdot 10^{-43} & 9.19252 \\cdot 10^{-43}\\\\0.790439 & 0.623305 & 9.13647 \\cdot 10^{-43} & 1.40538\\\\9.20653 \\cdot 10^{-43} & 9.13647 \\cdot 10^{-43} & 9.10844 \\cdot 10^{-43} & 0.489488\\\\9.0664 \\cdot 10^{-43} & 9.10844 \\cdot 10^{-43} & 9.15048 \\cdot 10^{-43} & 1.45268\\\\1.09021 \\cdot 10^{-42} & 9.15048 \\cdot 10^{-43} & 0.795923 & 9.12245 \\cdot 10^{-43}\\\\0.0285311 & 9.10844 \\cdot 10^{-43} & 9.10844 \\cdot 10^{-43} & 9.05239 \\cdot 10^{-43}\\\\-0.0177652 & 9.09443 \\cdot 10^{-43} & -0.0649584 & 9.19252 \\cdot 10^{-43}\\\\9.15048 \\cdot 10^{-43} & -9.01035 \\cdot 10^{-43} & -8.64601 \\cdot 10^{-43} & 9.1785 \\cdot 10^{-43}\\\\0.462517 & 9.19252 \\cdot 10^{-43} & 1.26733 & 9.15048 \\cdot 10^{-43}\\end{matrix}\\right]$"
      ],
      "text/plain": [
       "Eq(W_exp_result, Matrix([\n",
       "[    1.23658,    0.0306508,  9.19252e-43,  9.1785e-43],\n",
       "[   0.695438,     0.715477,  9.19252e-43,  9.1785e-43],\n",
       "[   0.899612,  9.09443e-43,  9.15048e-43, 9.09443e-43],\n",
       "[9.10844e-43,      1.05116, -8.66002e-43, 9.19252e-43],\n",
       "[   0.790439,     0.623305,  9.13647e-43,     1.40538],\n",
       "[9.20653e-43,  9.13647e-43,  9.10844e-43,    0.489488],\n",
       "[ 9.0664e-43,  9.10844e-43,  9.15048e-43,     1.45268],\n",
       "[1.09021e-42,  9.15048e-43,     0.795923, 9.12245e-43],\n",
       "[  0.0285311,  9.10844e-43,  9.10844e-43, 9.05239e-43],\n",
       "[ -0.0177652,  9.09443e-43,   -0.0649584, 9.19252e-43],\n",
       "[9.15048e-43, -9.01035e-43, -8.64601e-43,  9.1785e-43],\n",
       "[   0.462517,  9.19252e-43,      1.26733, 9.15048e-43]]))"
      ]
     },
     "metadata": {},
     "output_type": "display_data"
    },
    {
     "data": {
      "text/latex": [
       "$\\displaystyle b_{depth result} = \\left[\\begin{matrix}0.218495 & 1.58445 & 0.53115 & 0.256899\\end{matrix}\\right]$"
      ],
      "text/plain": [
       "Eq(b_depth_result, Matrix([[0.218495, 1.58445, 0.53115, 0.256899]]))"
      ]
     },
     "metadata": {},
     "output_type": "display_data"
    },
    {
     "data": {
      "text/latex": [
       "$\\displaystyle b_{exp result} = \\left[\\begin{matrix}8.98232 \\cdot 10^{-43} & -0.185507 & -8.56193 \\cdot 10^{-43} & 8.58996 \\cdot 10^{-43}\\end{matrix}\\right]$"
      ],
      "text/plain": [
       "Eq(b_exp_result, Matrix([[8.98232e-43, -0.185507, -8.56193e-43, 8.58996e-43]]))"
      ]
     },
     "metadata": {},
     "output_type": "display_data"
    }
   ],
   "source": [
    "with torch.no_grad():\n",
    "    # quantize one last time for inference\n",
    "    Wdepth = torch.relu(model.W_depth)\n",
    "    bdepth = torch.relu(model.b_depth)\n",
    "\n",
    "    Wexp = model.W_exp\n",
    "    bexp = model.b_exp\n",
    "\n",
    "    W = model.W\n",
    "    b = model.b\n",
    "    W = model._quantize(W,Wexp,Wdepth)\n",
    "    b = model._quantize(b,bexp,bdepth)\n",
    "\n",
    "    response = torch.argmax((x_examples@W+b),dim=-1)\n",
    "    print(\"Score:\",torch.sum(response==y_examples))\n",
    "    \n",
    "\n",
    "    sp_Wresult = sp.Matrix(W.to(\"cpu\"))\n",
    "    sp_Bresult = sp.Matrix(b.to(\"cpu\"))\n",
    "    \n",
    "    display(sp.Eq(sp.Symbol(\"W_result\"), sp_Wresult,evaluate=False))\n",
    "    display(sp.Eq(sp.Symbol(\"B_result\"), sp_Bresult,evaluate=False))\n",
    "\n",
    "    print(\"==========================\")\n",
    "\n",
    "\n",
    "    sp_Wexpresult = sp.Matrix(model.W_exp.to(\"cpu\"))\n",
    "    sp_Wdepthresult = sp.Matrix(model.W_depth.to(\"cpu\"))\n",
    "\n",
    "    display(sp.Eq(sp.Symbol(\"W_depth_result\"), sp_Wdepthresult,evaluate=False))\n",
    "    display(sp.Eq(sp.Symbol(\"W_exp_result\"), sp_Wexpresult,evaluate=False))\n",
    "    \n",
    "\n",
    "    sp_bexpresult = sp.Matrix(model.b_exp.to(\"cpu\"))\n",
    "    sp_bdepthresult = sp.Matrix(model.b_depth.to(\"cpu\"))\n",
    "\n",
    "    display(sp.Eq(sp.Symbol(\"b_depth_result\"), sp_bdepthresult,evaluate=False))\n",
    "    display(sp.Eq(sp.Symbol(\"b_exp_result\"), sp_bexpresult,evaluate=False))\n",
    "        "
   ]
  },
  {
   "cell_type": "code",
   "execution_count": 10,
   "id": "ea103e35-d4de-4866-81ca-d534e0856cfb",
   "metadata": {},
   "outputs": [],
   "source": [
    "# anytime we have exp too low then we can probably get a weight 0\n",
    "# but it is guarenteed to have 0 weight if depth <=0 . "
   ]
  }
 ],
 "metadata": {
  "kernelspec": {
   "display_name": "Python 3 (ipykernel)",
   "language": "python",
   "name": "python3"
  },
  "language_info": {
   "codemirror_mode": {
    "name": "ipython",
    "version": 3
   },
   "file_extension": ".py",
   "mimetype": "text/x-python",
   "name": "python",
   "nbconvert_exporter": "python",
   "pygments_lexer": "ipython3",
   "version": "3.12.7"
  }
 },
 "nbformat": 4,
 "nbformat_minor": 5
}
