{
 "cells": [
  {
   "cell_type": "code",
   "execution_count": 1,
   "id": "22e6e1af-3f4d-43ed-9d72-a2cca6ec5e32",
   "metadata": {},
   "outputs": [],
   "source": [
    "import torch\n",
    "import sympy as sp\n",
    "from IPython.display import display\n",
    "import matplotlib.pyplot as plt\n",
    "import matplotx\n",
    "plt.style.use(matplotx.styles.pacoty)"
   ]
  },
  {
   "cell_type": "code",
   "execution_count": 2,
   "id": "d3c7df98-1998-490c-ad31-e69726113db8",
   "metadata": {},
   "outputs": [
    {
     "name": "stdout",
     "output_type": "stream",
     "text": [
      "True Pop Params\n"
     ]
    },
    {
     "data": {
      "text/latex": [
       "$\\displaystyle W = \\left[\\begin{matrix}-0.15 & 0 & 0 & 0\\\\0 & 0.15 & 0 & 0\\\\0.05 & 0 & 0 & 0\\\\0 & -0.1 & 0 & 0\\\\0 & 0 & 0 & 0.22\\\\0 & 0 & 0 & 0\\\\0 & 0 & 0 & 0.21\\\\0 & 0 & 0.05 & 0\\\\0 & 0 & 0 & 0\\\\0.01 & 0 & 0 & 0\\\\0 & 0 & 0 & 0\\\\0 & 0 & 0.18 & 0\\end{matrix}\\right]$"
      ],
      "text/plain": [
       "Eq(W, Matrix([\n",
       "[-0.15,    0,    0,    0],\n",
       "[    0, 0.15,    0,    0],\n",
       "[ 0.05,    0,    0,    0],\n",
       "[    0, -0.1,    0,    0],\n",
       "[    0,    0,    0, 0.22],\n",
       "[    0,    0,    0,    0],\n",
       "[    0,    0,    0, 0.21],\n",
       "[    0,    0, 0.05,    0],\n",
       "[    0,    0,    0,    0],\n",
       "[ 0.01,    0,    0,    0],\n",
       "[    0,    0,    0,    0],\n",
       "[    0,    0, 0.18,    0]]))"
      ]
     },
     "metadata": {},
     "output_type": "display_data"
    },
    {
     "data": {
      "text/latex": [
       "$\\displaystyle b = \\left[\\begin{matrix}0.02 & -0.01 & 0.03 & -0.005\\end{matrix}\\right]$"
      ],
      "text/plain": [
       "Eq(b, Matrix([[0.02, -0.01, 0.03, -0.005]]))"
      ]
     },
     "metadata": {},
     "output_type": "display_data"
    },
    {
     "data": {
      "text/latex": [
       "$\\displaystyle y = \\operatorname{argmax}{\\left(\\left[\\begin{matrix}- 0.15 x_{0} + 0.05 x_{2} + 0.01 x_{9} + 0.02 & 0.15 x_{1} - 0.1 x_{3} - 0.01 & 0.18 x_{11} + 0.05 x_{7} + 0.03 & 0.22 x_{4} + 0.21 x_{6} - 0.005\\end{matrix}\\right] \\right)}$"
      ],
      "text/plain": [
       "Eq(y, argmax(Matrix([[-0.15*x0 + 0.05*x2 + 0.01*x9 + 0.02, 0.15*x1 - 0.1*x3 - 0.01, 0.18*x11 + 0.05*x7 + 0.03, 0.22*x4 + 0.21*x6 - 0.005]])))"
      ]
     },
     "metadata": {},
     "output_type": "display_data"
    }
   ],
   "source": [
    "# 12 feature input . 4 class labelling\n",
    "class Dataset():\n",
    "    def __init__(self, num_examples=100):\n",
    "        \"\"\"\n",
    "        4-class Classification dataset\n",
    "        W : R12 -> R4\n",
    "        y = argmax(X@W + b)\n",
    "        \"\"\"\n",
    "\n",
    "        torch.manual_seed(10)\n",
    "        \n",
    "        # Mostly sparse W with small scale and precision to represent them\n",
    "        # this could be inferenced with fp4 if our model achieves this.\n",
    "        self._W = torch.tensor([\n",
    "            [-0.15, 0.0,   0.0,   0.0],\n",
    "            [ 0.0, 0.15,  0.0,   0.0],\n",
    "            [ 0.05, 0.0,  0.0,   0.0],\n",
    "            [ 0.0, -0.1,  0.0,   0.0],\n",
    "            [ 0.0, 0.0,   0.0,   0.22],\n",
    "            [ 0.0, 0.0,   0.0,   0.0],\n",
    "            [ 0.0, 0.0,   0.0,  0.21],\n",
    "            [ 0.0, 0.0,   0.05,  0.0],\n",
    "            [ 0.0, 0.0,   0.0,   0.0],\n",
    "            [ 0.01, 0.0,  0.0,   0.0],\n",
    "            [ 0.0, 0.0,   0.0,   0.0],\n",
    "            [ 0.0, 0.0,   0.18,  0.0]\n",
    "        ], dtype=torch.float32)\n",
    "\n",
    "        self._bias = 0.1 * torch.tensor([0.2, -0.1, 0.3, -0.05], dtype=torch.float32)\n",
    "\n",
    "        self.x = torch.randn(num_examples, 12, dtype=torch.float32)\n",
    "        self.y = self.x @ self._W + self._bias\n",
    "        self.y = torch.argmax(self.y, dim=-1)\n",
    "\n",
    "    def show_answer(self, show=4):\n",
    "        from IPython.display import display\n",
    "\n",
    "        sp_W = sp.Matrix(self._W)\n",
    "        sp_x = [sp.Symbol(f\"x{i}\") for i in range(self._W.shape[0])]\n",
    "        sp_y = sp.Symbol(\"y\")\n",
    "        sp_func = sp.Function(\"argmax\")\n",
    "        sp_b = sp.Matrix(self._bias)\n",
    "\n",
    "        sp_x = sp.Matrix(sp_x).T\n",
    "        sp_b = sp.Matrix(sp_b).T\n",
    "\n",
    "        sp_eq = sp.Eq(sp_y, sp_func(sp_x @ sp_W + sp_b), evaluate=False)\n",
    "\n",
    "        print(\"True Pop Params\")\n",
    "        display(sp.Eq(sp.Symbol(\"W\"), sp_W, evaluate=False))\n",
    "        display(sp.Eq(sp.Symbol(\"b\"), sp_b, evaluate=False))\n",
    "        display(sp_eq)\n",
    "\n",
    "# Example usage\n",
    "data = Dataset()\n",
    "data.show_answer()\n"
   ]
  },
  {
   "cell_type": "code",
   "execution_count": 3,
   "id": "ab59a9cd-6b78-4188-bb88-6339c320bea3",
   "metadata": {},
   "outputs": [
    {
     "data": {
      "text/plain": [
       "(array([32.,  0.,  0., 17.,  0.,  0., 22.,  0.,  0., 29.]),\n",
       " array([0. , 0.3, 0.6, 0.9, 1.2, 1.5, 1.8, 2.1, 2.4, 2.7, 3. ]),\n",
       " <BarContainer object of 10 artists>)"
      ]
     },
     "execution_count": 3,
     "metadata": {},
     "output_type": "execute_result"
    },
    {
     "data": {
      "image/png": "[encoded data removed]",
      "text/plain": [
       "<Figure size 640x480 with 1 Axes>"
      ]
     },
     "metadata": {},
     "output_type": "display_data"
    }
   ],
   "source": [
    "plt.hist(data.y)"
   ]
  },
  {
   "cell_type": "code",
   "execution_count": 4,
   "id": "11a19fa6-c4a5-44b2-bdf3-03896fb6c65d",
   "metadata": {},
   "outputs": [
    {
     "data": {
      "text/plain": [
       "[<matplotlib.lines.Line2D at 0x754219033cb0>]"
      ]
     },
     "execution_count": 4,
     "metadata": {},
     "output_type": "execute_result"
    },
    {
     "data": {
      "image/png": "[encoded data removed]",
      "text/plain": [
       "<Figure size 640x480 with 1 Axes>"
      ]
     },
     "metadata": {},
     "output_type": "display_data"
    }
   ],
   "source": [
    "#simple NN 1 layer same shape\n",
    "# register gelu\n",
    "\n",
    "torch.gelu = torch.nn.GELU()\n",
    "x = torch.linspace(-10,10,100)\n",
    "y = torch.gelu(x)\n",
    "\n",
    "plt.plot(x,y)"
   ]
  },
  {
   "cell_type": "code",
   "execution_count": 5,
   "id": "e1c05b76-b971-4789-b8cd-4d82b7f0aee0",
   "metadata": {},
   "outputs": [],
   "source": [
    "class SuperSimpleNN(torch.nn.Module):\n",
    "    def __init__(self):\n",
    "        super().__init__()\n",
    "        self.W = torch.randn(12,4,dtype=torch.float32) * 0.001\n",
    "        self.b = torch.randn(1,4,dtype=torch.float32) * 1e-6\n",
    "        \n",
    "        self.W = torch.nn.Parameter(self.W)\n",
    "        self.b = torch.nn.Parameter(self.b)\n",
    "\n",
    "    def forward(self,x):\n",
    "        out = torch.gelu(x@self.W + self.b)\n",
    "        return out\n",
    "\n",
    "simple_model = SuperSimpleNN()"
   ]
  },
  {
   "cell_type": "code",
   "execution_count": 6,
   "id": "05cd42ce-b576-47c8-8d46-5f755e14d83a",
   "metadata": {},
   "outputs": [
    {
     "name": "stdout",
     "output_type": "stream",
     "text": [
      "At init\n"
     ]
    },
    {
     "data": {
      "text/latex": [
       "$\\displaystyle W_{init} = \\left[\\begin{matrix}-2.95064 \\cdot 10^{-6} & 3.28615 \\cdot 10^{-5} & -0.000289201 & -0.000962827\\\\-0.00112318 & 0.00164451 & -0.000760122 & -0.0018361\\\\0.00230777 & 0.00163351 & -0.00156632 & -0.000309926\\\\0.000881118 & -0.000353287 & 0.00119294 & -0.000952075\\\\4.1349 \\cdot 10^{-5} & -0.00142936 & 0.000469836 & -0.000194857\\\\-0.000211432 & -0.000956195 & 0.00110472 & 0.00249495\\\\-0.000439831 & -0.000354608 & 0.000433983 & 0.00071879\\\\-0.000253736 & -0.00117271 & -6.85068 \\cdot 10^{-5} & 0.000213107\\\\-0.000298224 & -0.00135022 & 0.000405621 & 0.00027206\\\\0.00133739 & 0.00151539 & -0.00133056 & 0.000777632\\\\0.000750975 & -0.00109211 & -0.000830685 & 0.000743449\\\\-0.00164942 & 0.000348907 & -0.00102876 & -0.00178918\\end{matrix}\\right]$"
      ],
      "text/plain": [
       "Eq(W_init, Matrix([\n",
       "[ -2.95064e-6,   3.28615e-5, -0.000289201, -0.000962827],\n",
       "[ -0.00112318,   0.00164451, -0.000760122,   -0.0018361],\n",
       "[  0.00230777,   0.00163351,  -0.00156632, -0.000309926],\n",
       "[ 0.000881118, -0.000353287,   0.00119294, -0.000952075],\n",
       "[   4.1349e-5,  -0.00142936,  0.000469836, -0.000194857],\n",
       "[-0.000211432, -0.000956195,   0.00110472,   0.00249495],\n",
       "[-0.000439831, -0.000354608,  0.000433983,   0.00071879],\n",
       "[-0.000253736,  -0.00117271,  -6.85068e-5,  0.000213107],\n",
       "[-0.000298224,  -0.00135022,  0.000405621,   0.00027206],\n",
       "[  0.00133739,   0.00151539,  -0.00133056,  0.000777632],\n",
       "[ 0.000750975,  -0.00109211, -0.000830685,  0.000743449],\n",
       "[ -0.00164942,  0.000348907,  -0.00102876,  -0.00178918]]))"
      ]
     },
     "metadata": {},
     "output_type": "display_data"
    },
    {
     "data": {
      "text/latex": [
       "$\\displaystyle b_{init} = \\left[\\begin{matrix}-1.22774 \\cdot 10^{-6} & 4.99879 \\cdot 10^{-7} & -6.06775 \\cdot 10^{-7} & 4.64711 \\cdot 10^{-7}\\end{matrix}\\right]$"
      ],
      "text/plain": [
       "Eq(b_init, Matrix([[-1.22774e-6, 4.99879e-7, -6.06775e-7, 4.64711e-7]]))"
      ]
     },
     "metadata": {},
     "output_type": "display_data"
    }
   ],
   "source": [
    "print(\"At init\")\n",
    "with torch.no_grad():\n",
    "    for p in simple_model.named_parameters():\n",
    "        display(sp.Eq(sp.Symbol(f\"{p[0]}_init\"), sp.Matrix(p[1]),evaluate=False))"
   ]
  },
  {
   "cell_type": "code",
   "execution_count": 7,
   "id": "934072a8-d204-47a6-857a-3e88c3eab901",
   "metadata": {},
   "outputs": [
    {
     "name": "stderr",
     "output_type": "stream",
     "text": [
      "  0%|                                                                                               | 0/100000 [00:01<?, ?it/s, loss=1.39]W0412 12:15:18.096000 64764 site-packages/torch/_logging/_internal.py:1081] [7/0] Profiler function <class 'torch.autograd.profiler.record_function'> will be ignored\n",
      "100%|█████████████████████████████████████████████████████████████████████████████| 100000/100000 [00:47<00:00, 2101.64it/s, loss=1.55e-8]\n"
     ]
    }
   ],
   "source": [
    "x_examples = data.x.to(\"cuda\")\n",
    "y_examples = data.y.to(\"cuda\")\n",
    "torch.set_float32_matmul_precision(\"high\")\n",
    "\n",
    "@torch.compile\n",
    "def train(epochs:int = 100_000):\n",
    "    model = SuperSimpleNN()\n",
    "    model.to(\"cuda\")\n",
    "\n",
    "    from tqdm import tqdm\n",
    "    pbar = tqdm(range(epochs))\n",
    "    optim = torch.optim.AdamW(model.parameters(),weight_decay=1e-3)\n",
    "\n",
    "    for epoch in pbar:\n",
    "        out = model(x_examples)\n",
    "        loss = torch.nn.functional.cross_entropy(input = out, target = y_examples)\n",
    "    \n",
    "        if epoch % 10_000 == 0:\n",
    "            pbar.set_postfix(loss=loss.item())\n",
    "    \n",
    "        optim.zero_grad()\n",
    "        loss.backward()\n",
    "        optim.step()\n",
    "    return model\n",
    "\n",
    "\n",
    "model = train()"
   ]
  },
  {
   "cell_type": "code",
   "execution_count": 8,
   "id": "dbea2e04-80b6-4ba1-9bf6-6c6f4f2d88f7",
   "metadata": {},
   "outputs": [
    {
     "name": "stdout",
     "output_type": "stream",
     "text": [
      "Score:k tensor(100., device='cuda:0')\n"
     ]
    },
    {
     "data": {
      "text/latex": [
       "$\\displaystyle W_{result} = \\left[\\begin{matrix}-21.0347 & 15.4396 & 17.2855 & 20.3204\\\\-15.8118 & 21.4084 & -2.81431 & -4.27058\\\\21.0235 & -10.4682 & -9.02066 & -8.60065\\\\4.76723 & -11.5684 & 6.02547 & -1.05022\\\\-25.9591 & -11.6518 & -15.1193 & 26.8809\\\\0.644754 & 4.25409 & 6.00605 & 0.514302\\\\-13.0753 & -10.1463 & -9.16051 & 22.4906\\\\0.74636 & -6.93804 & 7.47967 & -6.70925\\\\5.61453 & 6.7398 & -1.14418 & -5.18975\\\\-4.4407 & -10.9921 & 2.92619 & -4.94735\\\\3.42232 & -4.73664 & -3.50472 & 3.81518\\\\-27.7082 & -11.3842 & 26.6312 & -18.4287\\end{matrix}\\right]$"
      ],
      "text/plain": [
       "Eq(W_result, Matrix([\n",
       "[-21.0347,  15.4396,  17.2855,  20.3204],\n",
       "[-15.8118,  21.4084, -2.81431, -4.27058],\n",
       "[ 21.0235, -10.4682, -9.02066, -8.60065],\n",
       "[ 4.76723, -11.5684,  6.02547, -1.05022],\n",
       "[-25.9591, -11.6518, -15.1193,  26.8809],\n",
       "[0.644754,  4.25409,  6.00605, 0.514302],\n",
       "[-13.0753, -10.1463, -9.16051,  22.4906],\n",
       "[ 0.74636, -6.93804,  7.47967, -6.70925],\n",
       "[ 5.61453,   6.7398, -1.14418, -5.18975],\n",
       "[ -4.4407, -10.9921,  2.92619, -4.94735],\n",
       "[ 3.42232, -4.73664, -3.50472,  3.81518],\n",
       "[-27.7082, -11.3842,  26.6312, -18.4287]]))"
      ]
     },
     "metadata": {},
     "output_type": "display_data"
    },
    {
     "data": {
      "text/latex": [
       "$\\displaystyle B_{result} = \\left[\\begin{matrix}-4.08658 & 4.16007 & 3.81791 & 8.37387\\end{matrix}\\right]$"
      ],
      "text/plain": [
       "Eq(B_result, Matrix([[-4.08658, 4.16007, 3.81791, 8.37387]]))"
      ]
     },
     "metadata": {},
     "output_type": "display_data"
    },
    {
     "name": "stdout",
     "output_type": "stream",
     "text": [
      "==========\n"
     ]
    },
    {
     "data": {
      "text/latex": [
       "$\\displaystyle Wgrad_{result} = \\left[\\begin{matrix}-8.5307 \\cdot 10^{-11} & -8.62778 \\cdot 10^{-10} & -4.42957 \\cdot 10^{-10} & 5.47861 \\cdot 10^{-10}\\\\-3.06046 \\cdot 10^{-10} & -8.54612 \\cdot 10^{-10} & -1.37155 \\cdot 10^{-9} & -9.36689 \\cdot 10^{-10}\\\\5.96197 \\cdot 10^{-10} & 2.14107 \\cdot 10^{-10} & -7.39701 \\cdot 10^{-10} & -1.26813 \\cdot 10^{-9}\\\\6.77114 \\cdot 10^{-10} & 3.60571 \\cdot 10^{-10} & 1.13181 \\cdot 10^{-11} & 2.30182 \\cdot 10^{-9}\\\\1.08463 \\cdot 10^{-9} & 7.85768 \\cdot 10^{-10} & -9.41189 \\cdot 10^{-11} & -1.40314 \\cdot 10^{-9}\\\\7.19516 \\cdot 10^{-10} & 6.55573 \\cdot 10^{-10} & 8.1463 \\cdot 10^{-10} & 6.54005 \\cdot 10^{-10}\\\\-1.22073 \\cdot 10^{-9} & -1.3581 \\cdot 10^{-9} & -9.59884 \\cdot 10^{-10} & -2.25265 \\cdot 10^{-10}\\\\3.09491 \\cdot 10^{-11} & -2.98177 \\cdot 10^{-10} & -1.24615 \\cdot 10^{-9} & -1.24374 \\cdot 10^{-10}\\\\-1.99268 \\cdot 10^{-10} & -2.68859 \\cdot 10^{-12} & -1.62182 \\cdot 10^{-9} & 1.79341 \\cdot 10^{-10}\\\\6.08365 \\cdot 10^{-10} & 6.01484 \\cdot 10^{-10} & 7.06677 \\cdot 10^{-10} & -1.41637 \\cdot 10^{-9}\\\\-6.95205 \\cdot 10^{-10} & 8.44791 \\cdot 10^{-10} & 8.332 \\cdot 10^{-11} & 1.13044 \\cdot 10^{-9}\\\\7.48609 \\cdot 10^{-10} & 5.74217 \\cdot 10^{-10} & -1.98284 \\cdot 10^{-10} & 1.05077 \\cdot 10^{-9}\\end{matrix}\\right]$"
      ],
      "text/plain": [
       "Eq(Wgrad_result, Matrix([\n",
       "[ -8.5307e-11, -8.62778e-10, -4.42957e-10,  5.47861e-10],\n",
       "[-3.06046e-10, -8.54612e-10,  -1.37155e-9, -9.36689e-10],\n",
       "[ 5.96197e-10,  2.14107e-10, -7.39701e-10,  -1.26813e-9],\n",
       "[ 6.77114e-10,  3.60571e-10,  1.13181e-11,   2.30182e-9],\n",
       "[  1.08463e-9,  7.85768e-10, -9.41189e-11,  -1.40314e-9],\n",
       "[ 7.19516e-10,  6.55573e-10,   8.1463e-10,  6.54005e-10],\n",
       "[ -1.22073e-9,   -1.3581e-9, -9.59884e-10, -2.25265e-10],\n",
       "[ 3.09491e-11, -2.98177e-10,  -1.24615e-9, -1.24374e-10],\n",
       "[-1.99268e-10, -2.68859e-12,  -1.62182e-9,  1.79341e-10],\n",
       "[ 6.08365e-10,  6.01484e-10,  7.06677e-10,  -1.41637e-9],\n",
       "[-6.95205e-10,  8.44791e-10,    8.332e-11,   1.13044e-9],\n",
       "[ 7.48609e-10,  5.74217e-10, -1.98284e-10,   1.05077e-9]]))"
      ]
     },
     "metadata": {},
     "output_type": "display_data"
    },
    {
     "data": {
      "text/latex": [
       "$\\displaystyle Bgrad_{result} = \\left[\\begin{matrix}1.40559 \\cdot 10^{-9} & 3.11349 \\cdot 10^{-10} & 2.43776 \\cdot 10^{-9} & 7.58081 \\cdot 10^{-10}\\end{matrix}\\right]$"
      ],
      "text/plain": [
       "Eq(Bgrad_result, Matrix([[1.40559e-9, 3.11349e-10, 2.43776e-9, 7.58081e-10]]))"
      ]
     },
     "metadata": {},
     "output_type": "display_data"
    }
   ],
   "source": [
    "with torch.no_grad():\n",
    "    response = torch.argmax(model(x_examples),dim=-1)\n",
    "    print(\"Score:k\",torch.sum(response==y_examples)*1.0)\n",
    "    \n",
    "    sp_Wresult = sp.Matrix(model.W.to(\"cpu\"))\n",
    "    sp_Bresult = sp.Matrix(model.b.to(\"cpu\"))\n",
    "    \n",
    "    display(sp.Eq(sp.Symbol(\"W_result\"), sp_Wresult,evaluate=False))\n",
    "    display(sp.Eq(sp.Symbol(\"B_result\"), sp_Bresult,evaluate=False))\n",
    "    \n",
    "    print(\"==========\")\n",
    "    sp_Wgrad = sp.Matrix(model.W.grad.to(\"cpu\"))\n",
    "    sp_bgrad = sp.Matrix(model.b.grad.to(\"cpu\"))\n",
    "\n",
    "    display(sp.Eq(sp.Symbol(\"Wgrad_result\"), sp_Wgrad,evaluate=False))\n",
    "    display(sp.Eq(sp.Symbol(\"Bgrad_result\"), sp_bgrad,evaluate=False))\n",
    "    \n",
    "    "
   ]
  },
  {
   "cell_type": "code",
   "execution_count": null,
   "id": "959ff1cb-b0bb-4871-9d1b-b18892d9b8a4",
   "metadata": {},
   "outputs": [],
   "source": []
  }
 ],
 "metadata": {
  "kernelspec": {
   "display_name": "Python 3 (ipykernel)",
   "language": "python",
   "name": "python3"
  },
  "language_info": {
   "codemirror_mode": {
    "name": "ipython",
    "version": 3
   },
   "file_extension": ".py",
   "mimetype": "text/x-python",
   "name": "python",
   "nbconvert_exporter": "python",
   "pygments_lexer": "ipython3",
   "version": "3.12.7"
  }
 },
 "nbformat": 4,
 "nbformat_minor": 5
}
